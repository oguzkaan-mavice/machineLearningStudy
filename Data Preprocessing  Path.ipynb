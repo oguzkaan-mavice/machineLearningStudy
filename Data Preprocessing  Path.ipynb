{
 "cells": [
  {
   "cell_type": "markdown",
   "metadata": {},
   "source": [
    "**Data Preprocessing**\n",
    "\n",
    "***1- Data Quality Assessment***\n",
    "\n",
    "***2- Data Cleaning***\n",
    "\n",
    "***3- Data Transformation***\n",
    "\n",
    "***4- Data Reduction***"
   ]
  },
  {
   "cell_type": "markdown",
   "metadata": {},
   "source": [
    "**1- Data Quality Assessment**\n",
    "\n",
    "        1- Mismacthing in data types\n",
    "        2- Different dimension of data arrays\n",
    "        3- Mixture of data values\n",
    "        4- Outliers in dataset"
   ]
  },
  {
   "cell_type": "markdown",
   "metadata": {},
   "source": [
    "**2- Data Cleaning**\n",
    "\n",
    "        1- Missing data\n",
    "        2- Noisy data\n",
    "        "
   ]
  },
  {
   "cell_type": "markdown",
   "metadata": {},
   "source": [
    "**3- Data Transformation**\n",
    "\n",
    "        1- Aggregation\n",
    "        2- Normalization\n",
    "        3- Feature Selection\n",
    "        4- Discretization\n",
    "        5- Concept hierarchy generation\n",
    "        6- Generalization"
   ]
  },
  {
   "cell_type": "markdown",
   "metadata": {},
   "source": [
    "**4- Data Reduction**\n",
    "\n",
    "        1- Attribute feature selection\n",
    "        2- Dimensionality reduction\n",
    "        3- Numerosity reduction\n",
    "        4- Parametric method\n",
    "        5- Non-Parametric method"
   ]
  }
 ],
 "metadata": {
  "kernelspec": {
   "display_name": "Python 3",
   "language": "python",
   "name": "python3"
  },
  "language_info": {
   "codemirror_mode": {
    "name": "ipython",
    "version": 3
   },
   "file_extension": ".py",
   "mimetype": "text/x-python",
   "name": "python",
   "nbconvert_exporter": "python",
   "pygments_lexer": "ipython3",
   "version": "3.7.6"
  }
 },
 "nbformat": 4,
 "nbformat_minor": 4
}
